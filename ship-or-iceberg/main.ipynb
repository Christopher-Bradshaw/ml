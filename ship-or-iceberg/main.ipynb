{
 "cells": [
  {
   "cell_type": "markdown",
   "metadata": {},
   "source": [
    "# Ship or Iceberg\n",
    "https://www.kaggle.com/c/statoil-iceberg-classifier-challenge"
   ]
  },
  {
   "cell_type": "markdown",
   "metadata": {
    "heading_collapsed": true
   },
   "source": [
    "### Next steps for this model\n",
    "* Work out how to get *probabilities* rather than just numbers at the end\n",
    "* submit!\n",
    "\n",
    "\n",
    "### Next steps in general\n",
    "* Read some papers about NN to work out how they work\n",
    "    * http://www.cs.toronto.edu/~hinton/absps/momentum.pdf\n",
    "    * http://www.exegetic.biz/blog/2015/12/making-sense-logarithmic-loss/\n",
    "    "
   ]
  },
  {
   "cell_type": "markdown",
   "metadata": {
    "heading_collapsed": true
   },
   "source": [
    "# Initialisation"
   ]
  },
  {
   "cell_type": "code",
   "execution_count": 1,
   "metadata": {
    "hidden": true
   },
   "outputs": [
    {
     "data": {
      "text/html": [
       "<style>.container { width:90% !important; }</style>"
      ],
      "text/plain": [
       "<IPython.core.display.HTML object>"
      ]
     },
     "metadata": {},
     "output_type": "display_data"
    }
   ],
   "source": [
    "%load_ext autoreload\n",
    "%autoreload 2\n",
    "%matplotlib inline\n",
    "\n",
    "from IPython.core.display import display, HTML\n",
    "display(HTML(\"<style>.container { width:90% !important; }</style>\"))"
   ]
  },
  {
   "cell_type": "code",
   "execution_count": 62,
   "metadata": {
    "hidden": true
   },
   "outputs": [],
   "source": [
    "import torch\n",
    "import torch.autograd as autograd\n",
    "import torch.nn as nn\n",
    "import torch.nn.functional as F\n",
    "import torch.optim as optim\n",
    "\n",
    "import numpy as np\n",
    "import pandas as pd\n",
    "import sklearn.preprocessing\n",
    "import sklearn.model_selection\n",
    "\n",
    "import matplotlib.pyplot as plt\n",
    "from tqdm import tqdm"
   ]
  },
  {
   "cell_type": "markdown",
   "metadata": {},
   "source": [
    "# Data\n",
    "\n",
    "Load and preprocess data"
   ]
  },
  {
   "cell_type": "code",
   "execution_count": 3,
   "metadata": {},
   "outputs": [
    {
     "data": {
      "text/html": [
       "<div>\n",
       "<style scoped>\n",
       "    .dataframe tbody tr th:only-of-type {\n",
       "        vertical-align: middle;\n",
       "    }\n",
       "\n",
       "    .dataframe tbody tr th {\n",
       "        vertical-align: top;\n",
       "    }\n",
       "\n",
       "    .dataframe thead th {\n",
       "        text-align: right;\n",
       "    }\n",
       "</style>\n",
       "<table border=\"1\" class=\"dataframe\">\n",
       "  <thead>\n",
       "    <tr style=\"text-align: right;\">\n",
       "      <th></th>\n",
       "      <th>band_1</th>\n",
       "      <th>band_2</th>\n",
       "      <th>inc_angle</th>\n",
       "      <th>is_iceberg</th>\n",
       "    </tr>\n",
       "    <tr>\n",
       "      <th>id</th>\n",
       "      <th></th>\n",
       "      <th></th>\n",
       "      <th></th>\n",
       "      <th></th>\n",
       "    </tr>\n",
       "  </thead>\n",
       "  <tbody>\n",
       "    <tr>\n",
       "      <th>dfd5f913</th>\n",
       "      <td>[-27.878360999999998, -27.15416, -28.668615, -...</td>\n",
       "      <td>[-27.154118, -29.537888, -31.0306, -32.190483,...</td>\n",
       "      <td>43.9239</td>\n",
       "      <td>0</td>\n",
       "    </tr>\n",
       "    <tr>\n",
       "      <th>e25388fd</th>\n",
       "      <td>[-12.242375, -14.920304999999999, -14.920363, ...</td>\n",
       "      <td>[-31.506321, -27.984554, -26.645678, -23.76760...</td>\n",
       "      <td>38.1562</td>\n",
       "      <td>0</td>\n",
       "    </tr>\n",
       "    <tr>\n",
       "      <th>58b2aaa0</th>\n",
       "      <td>[-24.603676, -24.603714, -24.871029, -23.15277...</td>\n",
       "      <td>[-24.870956, -24.092632, -20.653963, -19.41104...</td>\n",
       "      <td>45.2859</td>\n",
       "      <td>1</td>\n",
       "    </tr>\n",
       "    <tr>\n",
       "      <th>4cfc3a18</th>\n",
       "      <td>[-22.454607, -23.082819, -23.998013, -23.99805...</td>\n",
       "      <td>[-27.889421, -27.519794, -27.165262, -29.10350...</td>\n",
       "      <td>43.8306</td>\n",
       "      <td>0</td>\n",
       "    </tr>\n",
       "    <tr>\n",
       "      <th>271f93f4</th>\n",
       "      <td>[-26.006956, -23.164886, -23.164886, -26.89116...</td>\n",
       "      <td>[-27.206915, -30.259186, -30.259186, -23.16495...</td>\n",
       "      <td>35.6256</td>\n",
       "      <td>0</td>\n",
       "    </tr>\n",
       "  </tbody>\n",
       "</table>\n",
       "</div>"
      ],
      "text/plain": [
       "                                                     band_1  \\\n",
       "id                                                            \n",
       "dfd5f913  [-27.878360999999998, -27.15416, -28.668615, -...   \n",
       "e25388fd  [-12.242375, -14.920304999999999, -14.920363, ...   \n",
       "58b2aaa0  [-24.603676, -24.603714, -24.871029, -23.15277...   \n",
       "4cfc3a18  [-22.454607, -23.082819, -23.998013, -23.99805...   \n",
       "271f93f4  [-26.006956, -23.164886, -23.164886, -26.89116...   \n",
       "\n",
       "                                                     band_2 inc_angle  \\\n",
       "id                                                                      \n",
       "dfd5f913  [-27.154118, -29.537888, -31.0306, -32.190483,...   43.9239   \n",
       "e25388fd  [-31.506321, -27.984554, -26.645678, -23.76760...   38.1562   \n",
       "58b2aaa0  [-24.870956, -24.092632, -20.653963, -19.41104...   45.2859   \n",
       "4cfc3a18  [-27.889421, -27.519794, -27.165262, -29.10350...   43.8306   \n",
       "271f93f4  [-27.206915, -30.259186, -30.259186, -23.16495...   35.6256   \n",
       "\n",
       "          is_iceberg  \n",
       "id                    \n",
       "dfd5f913           0  \n",
       "e25388fd           0  \n",
       "58b2aaa0           1  \n",
       "4cfc3a18           0  \n",
       "271f93f4           0  "
      ]
     },
     "execution_count": 3,
     "metadata": {},
     "output_type": "execute_result"
    }
   ],
   "source": [
    "datadir = \"/home/christopher/Data/data/ml/ship-or-iceberg/\"\n",
    "\n",
    "with open(datadir + \"train.json\") as f:\n",
    "    raw_train = pd.read_json(f).set_index(\"id\")\n",
    "    \n",
    "with open(datadir + \"test.json\") as f:\n",
    "    raw_test = pd.read_json(f).set_index(\"id\")\n",
    "raw_train.head()"
   ]
  },
  {
   "cell_type": "code",
   "execution_count": 136,
   "metadata": {},
   "outputs": [],
   "source": [
    "band1 = np.array([np.array([i]) for i in raw_train[\"band_1\"]], dtype=np.float32)\n",
    "band2 = np.array([np.array([i]) for i in raw_train[\"band_2\"]], dtype=np.float32)\n",
    "train_data_all = np.concatenate((band1, band2), axis=1)\n",
    "\n",
    "band1 = np.array([np.array([i]) for i in raw_test[\"band_1\"]], dtype=np.float32)\n",
    "band2 = np.array([np.array([i]) for i in raw_test[\"band_2\"]], dtype=np.float32)\n",
    "test_data_all = np.concatenate((band1, band2), axis=1)\n",
    "del(band1, band2)"
   ]
  },
  {
   "cell_type": "code",
   "execution_count": 137,
   "metadata": {},
   "outputs": [],
   "source": [
    "train_data_all = train_data_all.reshape(len(train_data_all), -1)\n",
    "scaler = sklearn.preprocessing.StandardScaler()\n",
    "scaler.fit(train_data_all)\n",
    "train_data_all = scaler.transform(train_data_all)\n",
    "train_data_all = train_data_all.reshape(len(train_data_all), 2, 75, 75)\n",
    "\n",
    "test_data_all = test_data_all.reshape(len(test_data_all), -1)\n",
    "test_data_all = scaler.transform(test_data_all)\n",
    "test_data_all = test_data_all.reshape(len(test_data_all), 2, 75, 75)"
   ]
  },
  {
   "cell_type": "code",
   "execution_count": 145,
   "metadata": {},
   "outputs": [],
   "source": [
    "train_labels_all = np.zeros((len(raw_train), 2), dtype=np.float32)\n",
    "for i, is_iceberg in enumerate(raw_train[\"is_iceberg\"]):\n",
    "    train_labels_all[i][is_iceberg] = 1"
   ]
  },
  {
   "cell_type": "code",
   "execution_count": 146,
   "metadata": {},
   "outputs": [],
   "source": [
    "train_data, valid_data, train_labels, valid_labels = sklearn.model_selection.train_test_split(train_data_all, train_labels_all, test_size=204)\n",
    "\n",
    "train_data = autograd.Variable(torch.from_numpy(train_data))\n",
    "train_labels = autograd.Variable(torch.from_numpy(train_labels))\n",
    "\n",
    "valid_data = autograd.Variable(torch.from_numpy(valid_data))\n",
    "valid_label = autograd.Variable(torch.from_numpy(valid_labels))\n",
    "\n",
    "test_data = autograd.Variable(torch.from_numpy(test_data_all))"
   ]
  },
  {
   "cell_type": "markdown",
   "metadata": {},
   "source": [
    "# Data summary"
   ]
  },
  {
   "cell_type": "code",
   "execution_count": 147,
   "metadata": {},
   "outputs": [
    {
     "name": "stdout",
     "output_type": "stream",
     "text": [
      "torch.Size([1400, 2, 75, 75])\n",
      "torch.Size([204, 2, 75, 75])\n",
      "torch.Size([8424, 2, 75, 75])\n",
      "0.535\n"
     ]
    }
   ],
   "source": [
    "print(train_data.shape)\n",
    "print(valid_data.shape)\n",
    "print(test_data.shape)\n",
    "print(np.sum(train_labels.data.numpy()[:,0])/len(train_labels)) # Classes are almost equally represented"
   ]
  },
  {
   "cell_type": "markdown",
   "metadata": {},
   "source": [
    "# Build Neural Network and Train"
   ]
  },
  {
   "cell_type": "code",
   "execution_count": 148,
   "metadata": {},
   "outputs": [],
   "source": [
    "class Net(nn.Module):\n",
    "    def __init__(self):\n",
    "        super(Net, self).__init__()\n",
    "        self.conv1 = nn.Conv2d(2, 3, 4) # in_chan, out_chan, kernel_size\n",
    "        self.conv2 = nn.Conv2d(3, 6, 5)\n",
    "        self.lin1 = nn.Linear(6 * 10 * 10, 200) # in_feat, out_feat\n",
    "        self.lin2 = nn.Linear(200, 50)\n",
    "        self.lin3 = nn.Linear(50, 2)\n",
    "    \n",
    "    def forward(self, x):\n",
    "        # 2x75x75 -> 3x72x72 -> 3x24x24 -> 6x20x20 -> 6x10x10 -> 3*24*24 -> 200 -> 50 -> 2\n",
    "        x = F.max_pool2d(self.conv1(x), 3)\n",
    "        x = F.max_pool2d(self.conv2(x), 2)\n",
    "        x = x.view(-1, 6*10*10)\n",
    "        x = F.relu(self.lin1(x))\n",
    "        x = F.relu(self.lin2(x))\n",
    "        x = F.softmin(self.lin3(x), 1)\n",
    "        return x\n",
    "    \n",
    "net = Net().cuda()\n",
    "loss_fn = nn.MSELoss()\n",
    "optimizer = optim.SGD(net.parameters(), lr=0.0001, momentum=0.9)\n",
    "tracked_loss = []"
   ]
  },
  {
   "cell_type": "code",
   "execution_count": 164,
   "metadata": {},
   "outputs": [
    {
     "name": "stderr",
     "output_type": "stream",
     "text": [
      "0.49148811373606804: 100%|██████████| 600/600 [02:33<00:00,  3.92it/s]\n"
     ]
    },
    {
     "data": {
      "text/plain": [
       "[<matplotlib.lines.Line2D at 0x7fe8e91a2ac8>]"
      ]
     },
     "execution_count": 164,
     "metadata": {},
     "output_type": "execute_result"
    },
    {
     "data": {
      "image/png": "[encoded data removed]",
      "text/plain": [
       "<matplotlib.figure.Figure at 0x7fe902a84cf8>"
      ]
     },
     "metadata": {},
     "output_type": "display_data"
    }
   ],
   "source": [
    "t = tqdm(range(600)) # 600 appears to be optimal at present\n",
    "for epoch in t:\n",
    "    batch_size = 10\n",
    "    running_loss = 0.0\n",
    "    for start in np.arange(0, len(train_data) - batch_size, batch_size):\n",
    "        batch_input = train_data[start:start+batch_size].cuda()\n",
    "        batch_labels = train_labels[start:start+batch_size].cuda()\n",
    "        optimizer.zero_grad()\n",
    "    \n",
    "        batch_output = net(batch_input)\n",
    "        batch_loss = F.mse_loss(batch_output, batch_labels)\n",
    "        batch_loss.backward()\n",
    "        optimizer.step()\n",
    "        running_loss += batch_loss.data[0]\n",
    "    t.set_description(str(running_loss))\n",
    "    tracked_loss.append(running_loss)\n",
    "\n",
    "fig, ax = plt.subplots(figsize=(20, 10))\n",
    "ax.set(yscale = \"log\")\n",
    "ax.plot(tracked_loss)"
   ]
  },
  {
   "cell_type": "markdown",
   "metadata": {},
   "source": [
    "# Validation"
   ]
  },
  {
   "cell_type": "code",
   "execution_count": 173,
   "metadata": {},
   "outputs": [
    {
     "name": "stdout",
     "output_type": "stream",
     "text": [
      "How do we perform on boats, icebergs, overall\n",
      "0.882352941176\n",
      "0.823529411765\n",
      "0.852941176471\n",
      "This is much better than random!\n"
     ]
    },
    {
     "data": {
      "text/plain": [
       "Variable containing:\n",
       "-0.8357\n",
       "[torch.FloatTensor of size 1]"
      ]
     },
     "execution_count": 173,
     "metadata": {},
     "output_type": "execute_result"
    }
   ],
   "source": [
    "out = net(valid_data.cuda()).data.cpu().numpy()\n",
    "exp = np.argmax(valid_label.data.numpy(), axis=1)\n",
    "res = np.argmax(out, axis=1)\n",
    "\n",
    "print(\"How do we perform on boats, icebergs, overall\")\n",
    "print(np.sum(res[exp == 0] == 0) / np.count_nonzero(exp == 0))\n",
    "print(np.sum(res[exp == 1] == 1) / np.count_nonzero(exp == 1))\n",
    "print(np.sum(res == exp) / len(res))\n",
    "print(\"This is much better than random!\")\n",
    "\n",
    "cls = autograd.Variable(torch.from_numpy(exp))\n",
    "\n",
    "for i in range(len(out)):\n",
    "    if out[i][1] > 0.99:\n",
    "        out[i][1] = 0.99\n",
    "        out[i][0] = 0.01\n",
    "    elif out[i][1] < 0.01:\n",
    "        out[i][1] = 0.01\n",
    "        out[i][0] = 0.99\n",
    "F.nll_loss(autograd.Variable(torch.from_numpy(out)), cls)"
   ]
  },
  {
   "cell_type": "markdown",
   "metadata": {},
   "source": [
    "# Test"
   ]
  },
  {
   "cell_type": "code",
   "execution_count": 177,
   "metadata": {},
   "outputs": [],
   "source": [
    "out = net(test_data.cuda())"
   ]
  },
  {
   "cell_type": "code",
   "execution_count": 178,
   "metadata": {},
   "outputs": [],
   "source": [
    "out = out.data.cpu().numpy()"
   ]
  },
  {
   "cell_type": "code",
   "execution_count": 179,
   "metadata": {},
   "outputs": [
    {
     "data": {
      "text/plain": [
       "array([[  9.88311827e-01,   1.16881272e-02],\n",
       "       [  9.27672446e-01,   7.23275989e-02],\n",
       "       [  6.54809922e-03,   9.93451953e-01],\n",
       "       [  5.96105761e-04,   9.99403954e-01],\n",
       "       [  3.39964870e-04,   9.99660015e-01],\n",
       "       [  9.84457195e-01,   1.55428154e-02],\n",
       "       [  9.99933958e-01,   6.60906444e-05],\n",
       "       [  6.93034039e-08,   9.99999881e-01],\n",
       "       [  9.99998450e-01,   1.56239457e-06],\n",
       "       [  1.00000000e+00,   8.31108848e-10]], dtype=float32)"
      ]
     },
     "execution_count": 179,
     "metadata": {},
     "output_type": "execute_result"
    }
   ],
   "source": [
    "out[:10]"
   ]
  },
  {
   "cell_type": "code",
   "execution_count": 180,
   "metadata": {},
   "outputs": [],
   "source": [
    "# Index 0 is greater - no iceberg\n",
    "# Index 1 is greater - iceberg\n",
    "x = 0.2\n",
    "f = open(\"results.txt\", \"w\")\n",
    "f.write(\"id,is_iceberg\\n\")\n",
    "for i in range(len(out)):\n",
    "    res = out[i][1]\n",
    "    if res > 0.99:\n",
    "        res = 0.99\n",
    "    elif res < 0.01:\n",
    "        res = 0.01\n",
    "    f.write(\"{},{}\\n\".format(raw_test.index[i], res))\n",
    "f.close()"
   ]
  }
 ],
 "metadata": {
  "kernelspec": {
   "display_name": "ml",
   "language": "python",
   "name": "ml"
  },
  "language_info": {
   "codemirror_mode": {
    "name": "ipython",
    "version": 3
   },
   "file_extension": ".py",
   "mimetype": "text/x-python",
   "name": "python",
   "nbconvert_exporter": "python",
   "pygments_lexer": "ipython3",
   "version": "3.6.4"
  }
 },
 "nbformat": 4,
 "nbformat_minor": 2
}
