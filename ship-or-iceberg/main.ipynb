{
 "cells": [
  {
   "cell_type": "markdown",
   "metadata": {},
   "source": [
    "# Ship or Iceberg\n",
    "https://www.kaggle.com/c/statoil-iceberg-classifier-challenge"
   ]
  },
  {
   "cell_type": "code",
   "execution_count": 1,
   "metadata": {},
   "outputs": [
    {
     "data": {
      "text/html": [
       "<style>.container { width:90% !important; }</style>"
      ],
      "text/plain": [
       "<IPython.core.display.HTML object>"
      ]
     },
     "metadata": {},
     "output_type": "display_data"
    }
   ],
   "source": [
    "%load_ext autoreload\n",
    "%autoreload 2\n",
    "%matplotlib inline\n",
    "\n",
    "from IPython.core.display import display, HTML\n",
    "display(HTML(\"<style>.container { width:90% !important; }</style>\"))"
   ]
  },
  {
   "cell_type": "code",
   "execution_count": 64,
   "metadata": {},
   "outputs": [],
   "source": [
    "import torch\n",
    "import torch.autograd as autograd\n",
    "import torch.nn as nn\n",
    "import torch.nn.functional as F\n",
    "import torch.optim as optim\n",
    "\n",
    "import numpy as np\n",
    "import pandas as pd\n",
    "import sklearn.preprocessing\n",
    "import sklearn.model_selection\n",
    "\n",
    "import matplotlib.pyplot as plt"
   ]
  },
  {
   "cell_type": "markdown",
   "metadata": {
    "heading_collapsed": true
   },
   "source": [
    "# Data\n",
    "\n",
    "Load and preprocess data"
   ]
  },
  {
   "cell_type": "code",
   "execution_count": 3,
   "metadata": {
    "hidden": true
   },
   "outputs": [
    {
     "data": {
      "text/html": [
       "<div>\n",
       "<style scoped>\n",
       "    .dataframe tbody tr th:only-of-type {\n",
       "        vertical-align: middle;\n",
       "    }\n",
       "\n",
       "    .dataframe tbody tr th {\n",
       "        vertical-align: top;\n",
       "    }\n",
       "\n",
       "    .dataframe thead th {\n",
       "        text-align: right;\n",
       "    }\n",
       "</style>\n",
       "<table border=\"1\" class=\"dataframe\">\n",
       "  <thead>\n",
       "    <tr style=\"text-align: right;\">\n",
       "      <th></th>\n",
       "      <th>band_1</th>\n",
       "      <th>band_2</th>\n",
       "      <th>inc_angle</th>\n",
       "      <th>is_iceberg</th>\n",
       "    </tr>\n",
       "    <tr>\n",
       "      <th>id</th>\n",
       "      <th></th>\n",
       "      <th></th>\n",
       "      <th></th>\n",
       "      <th></th>\n",
       "    </tr>\n",
       "  </thead>\n",
       "  <tbody>\n",
       "    <tr>\n",
       "      <th>dfd5f913</th>\n",
       "      <td>[-27.878360999999998, -27.15416, -28.668615, -...</td>\n",
       "      <td>[-27.154118, -29.537888, -31.0306, -32.190483,...</td>\n",
       "      <td>43.9239</td>\n",
       "      <td>0</td>\n",
       "    </tr>\n",
       "    <tr>\n",
       "      <th>e25388fd</th>\n",
       "      <td>[-12.242375, -14.920304999999999, -14.920363, ...</td>\n",
       "      <td>[-31.506321, -27.984554, -26.645678, -23.76760...</td>\n",
       "      <td>38.1562</td>\n",
       "      <td>0</td>\n",
       "    </tr>\n",
       "    <tr>\n",
       "      <th>58b2aaa0</th>\n",
       "      <td>[-24.603676, -24.603714, -24.871029, -23.15277...</td>\n",
       "      <td>[-24.870956, -24.092632, -20.653963, -19.41104...</td>\n",
       "      <td>45.2859</td>\n",
       "      <td>1</td>\n",
       "    </tr>\n",
       "    <tr>\n",
       "      <th>4cfc3a18</th>\n",
       "      <td>[-22.454607, -23.082819, -23.998013, -23.99805...</td>\n",
       "      <td>[-27.889421, -27.519794, -27.165262, -29.10350...</td>\n",
       "      <td>43.8306</td>\n",
       "      <td>0</td>\n",
       "    </tr>\n",
       "    <tr>\n",
       "      <th>271f93f4</th>\n",
       "      <td>[-26.006956, -23.164886, -23.164886, -26.89116...</td>\n",
       "      <td>[-27.206915, -30.259186, -30.259186, -23.16495...</td>\n",
       "      <td>35.6256</td>\n",
       "      <td>0</td>\n",
       "    </tr>\n",
       "  </tbody>\n",
       "</table>\n",
       "</div>"
      ],
      "text/plain": [
       "                                                     band_1  \\\n",
       "id                                                            \n",
       "dfd5f913  [-27.878360999999998, -27.15416, -28.668615, -...   \n",
       "e25388fd  [-12.242375, -14.920304999999999, -14.920363, ...   \n",
       "58b2aaa0  [-24.603676, -24.603714, -24.871029, -23.15277...   \n",
       "4cfc3a18  [-22.454607, -23.082819, -23.998013, -23.99805...   \n",
       "271f93f4  [-26.006956, -23.164886, -23.164886, -26.89116...   \n",
       "\n",
       "                                                     band_2 inc_angle  \\\n",
       "id                                                                      \n",
       "dfd5f913  [-27.154118, -29.537888, -31.0306, -32.190483,...   43.9239   \n",
       "e25388fd  [-31.506321, -27.984554, -26.645678, -23.76760...   38.1562   \n",
       "58b2aaa0  [-24.870956, -24.092632, -20.653963, -19.41104...   45.2859   \n",
       "4cfc3a18  [-27.889421, -27.519794, -27.165262, -29.10350...   43.8306   \n",
       "271f93f4  [-27.206915, -30.259186, -30.259186, -23.16495...   35.6256   \n",
       "\n",
       "          is_iceberg  \n",
       "id                    \n",
       "dfd5f913           0  \n",
       "e25388fd           0  \n",
       "58b2aaa0           1  \n",
       "4cfc3a18           0  \n",
       "271f93f4           0  "
      ]
     },
     "execution_count": 3,
     "metadata": {},
     "output_type": "execute_result"
    }
   ],
   "source": [
    "datadir = \"/home/christopher/Data/data/ml/ship-or-iceberg/\"\n",
    "\n",
    "with open(datadir + \"train.json\") as f:\n",
    "    raw_train = pd.read_json(f).set_index(\"id\")\n",
    "raw_train.head()"
   ]
  },
  {
   "cell_type": "code",
   "execution_count": 4,
   "metadata": {
    "hidden": true
   },
   "outputs": [],
   "source": [
    "band1 = np.array([np.array([i]) for i in raw_train[\"band_1\"]], dtype=np.float32)\n",
    "band2 = np.array([np.array([i]) for i in raw_train[\"band_2\"]], dtype=np.float32)\n",
    "train_data_all = np.concatenate((band1, band2), axis=1)"
   ]
  },
  {
   "cell_type": "code",
   "execution_count": 8,
   "metadata": {
    "hidden": true
   },
   "outputs": [],
   "source": [
    "train_data_all = train_data_all.reshape(len(train_data_all), -1)\n",
    "scaler = sklearn.preprocessing.StandardScaler()\n",
    "scaler.fit(train_data_all)\n",
    "train_data_all = scaler.transform(train_data_all)\n",
    "train_data_all = train_data_all.reshape(len(train_data_all), 2, 75, 75)"
   ]
  },
  {
   "cell_type": "code",
   "execution_count": 9,
   "metadata": {
    "hidden": true
   },
   "outputs": [],
   "source": [
    "train_labels_all = np.zeros((len(raw_train), 2), dtype=np.float32)\n",
    "for i, is_iceberg in enumerate(raw_train[\"is_iceberg\"]):\n",
    "    train_labels_all[i][is_iceberg] = 1"
   ]
  },
  {
   "cell_type": "code",
   "execution_count": 17,
   "metadata": {
    "hidden": true
   },
   "outputs": [],
   "source": [
    "train_data, valid_data, train_labels, valid_labels = sklearn.model_selection.train_test_split(train_data_all, train_labels_all, test_size=204)"
   ]
  },
  {
   "cell_type": "markdown",
   "metadata": {},
   "source": [
    "# Data summary"
   ]
  },
  {
   "cell_type": "code",
   "execution_count": 18,
   "metadata": {},
   "outputs": [],
   "source": [
    "train_data = autograd.Variable(torch.from_numpy(train_data))\n",
    "train_labels = autograd.Variable(torch.from_numpy(train_labels))\n",
    "\n",
    "valid_data = autograd.Variable(torch.from_numpy(valid_data))\n",
    "valid_label = autograd.Variable(torch.from_numpy(valid_labels))"
   ]
  },
  {
   "cell_type": "code",
   "execution_count": 130,
   "metadata": {},
   "outputs": [
    {
     "name": "stdout",
     "output_type": "stream",
     "text": [
      "torch.Size([1400, 2, 75, 75])\n",
      "torch.Size([204, 2, 75, 75])\n",
      "0.531428571429\n",
      "0.468571428571\n"
     ]
    }
   ],
   "source": [
    "print(train_data.shape)\n",
    "print(valid_data.shape)\n",
    "print(np.sum(train_labels.data.numpy()[:,0])/len(train_labels)) # Classes are almost equally represented"
   ]
  },
  {
   "cell_type": "markdown",
   "metadata": {},
   "source": [
    "# Build Neural Network and Train"
   ]
  },
  {
   "cell_type": "code",
   "execution_count": 131,
   "metadata": {},
   "outputs": [],
   "source": [
    "class Net(nn.Module):\n",
    "    def __init__(self):\n",
    "        super(Net, self).__init__()\n",
    "        self.conv1 = nn.Conv2d(2, 3, 4) # in_chan, out_chan, kernel_size\n",
    "        self.conv2 = nn.Conv2d(3, 6, 5)\n",
    "        self.lin1 = nn.Linear(6 * 10 * 10, 200) # in_feat, out_feat\n",
    "        self.lin2 = nn.Linear(200, 50)\n",
    "        self.lin3 = nn.Linear(50, 2)\n",
    "    \n",
    "    def forward(self, x):\n",
    "        # 2x75x75 -> 3x72x72 -> 3x24x24 -> 6x20x20 -> 6x10x10 -> 3*24*24 -> 200 -> 50 -> 2\n",
    "        x = F.max_pool2d(self.conv1(x), 3)\n",
    "        x = F.max_pool2d(self.conv2(x), 2)\n",
    "        x = x.view(-1, 6*10*10)\n",
    "        x = F.relu(self.lin1(x))\n",
    "        x = F.relu(self.lin2(x))\n",
    "        x = self.lin3(x)\n",
    "        return x"
   ]
  },
  {
   "cell_type": "code",
   "execution_count": 132,
   "metadata": {},
   "outputs": [
    {
     "name": "stdout",
     "output_type": "stream",
     "text": [
      "38.317485854029655\n",
      "32.08613221347332\n",
      "30.614415302872658\n",
      "29.160364031791687\n",
      "27.393827587366104\n",
      "25.620278045535088\n",
      "24.486654341220856\n",
      "23.267941899597645\n",
      "22.324278719723225\n",
      "21.379121474921703\n",
      "20.389741480350494\n",
      "19.36722845584154\n",
      "18.612627010792494\n",
      "17.70719524100423\n",
      "16.942528869956732\n",
      "16.172869842499495\n",
      "15.516541574150324\n",
      "14.832075327634811\n",
      "14.175205450505018\n",
      "13.525931337848306\n",
      "12.815844856202602\n",
      "12.106014221906662\n",
      "11.4764303304255\n",
      "10.819300109520555\n",
      "10.220376293174922\n",
      "9.627480558119714\n",
      "9.099950190633535\n",
      "8.488928012549877\n",
      "7.990637557581067\n",
      "7.523677799385041\n"
     ]
    }
   ],
   "source": [
    "net = Net().cuda()\n",
    "loss_fn = nn.MSELoss()\n",
    "optimizer = optim.SGD(net.parameters(), lr=0.001, momentum=0.9)\n",
    "\n",
    "for epoch in range(30):\n",
    "    batch_size = 10\n",
    "    running_loss = 0.0\n",
    "    for start in np.arange(0, len(train_data) - batch_size, batch_size):\n",
    "        batch_input = train_data[start:start+batch_size].cuda()\n",
    "        batch_labels = train_labels[start:start+batch_size].cuda()\n",
    "        optimizer.zero_grad()\n",
    "    \n",
    "        batch_output = net(batch_input)\n",
    "        batch_loss = loss_fn(batch_output, batch_labels)\n",
    "        batch_loss.backward()\n",
    "        optimizer.step()\n",
    "        running_loss += batch_loss.data[0]\n",
    "        \n",
    "    print(running_loss)"
   ]
  },
  {
   "cell_type": "markdown",
   "metadata": {},
   "source": [
    "# Validation"
   ]
  },
  {
   "cell_type": "code",
   "execution_count": 133,
   "metadata": {},
   "outputs": [
    {
     "name": "stdout",
     "output_type": "stream",
     "text": [
      "How do we perform on boats, icebergs, overall\n",
      "0.878504672897\n",
      "0.814432989691\n",
      "0.848039215686\n",
      "This is much better than random!\n"
     ]
    }
   ],
   "source": [
    "out = net(valid_data.cuda())\n",
    "exp = np.argmax(valid_label.data.numpy(), axis=1)\n",
    "res = np.argmax(out.data.cpu().numpy(), axis=1)\n",
    "\n",
    "print(\"How do we perform on boats, icebergs, overall\")\n",
    "print(np.sum(res[exp == 0] == 0) / np.count_nonzero(exp == 0))\n",
    "print(np.sum(res[exp == 1] == 1) / np.count_nonzero(exp == 1))\n",
    "print(np.sum(res == exp) / len(res))\n",
    "print(\"This is much better than random!\")"
   ]
  },
  {
   "cell_type": "markdown",
   "metadata": {},
   "source": [
    "# Test"
   ]
  }
 ],
 "metadata": {
  "kernelspec": {
   "display_name": "ml",
   "language": "python",
   "name": "ml"
  },
  "language_info": {
   "codemirror_mode": {
    "name": "ipython",
    "version": 3
   },
   "file_extension": ".py",
   "mimetype": "text/x-python",
   "name": "python",
   "nbconvert_exporter": "python",
   "pygments_lexer": "ipython3",
   "version": "3.6.3"
  }
 },
 "nbformat": 4,
 "nbformat_minor": 2
}
