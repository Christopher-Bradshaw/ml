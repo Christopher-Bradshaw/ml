{
 "cells": [
  {
   "cell_type": "markdown",
   "metadata": {},
   "source": [
    "# Ship or Iceberg\n",
    "https://www.kaggle.com/c/statoil-iceberg-classifier-challenge"
   ]
  },
  {
   "cell_type": "code",
   "execution_count": 25,
   "metadata": {},
   "outputs": [],
   "source": [
    "import torch\n",
    "import torch.autograd as autograd\n",
    "import torch.nn as nn\n",
    "\n",
    "import numpy as np\n",
    "import pandas as pd"
   ]
  },
  {
   "cell_type": "markdown",
   "metadata": {},
   "source": [
    "# Data"
   ]
  },
  {
   "cell_type": "code",
   "execution_count": 2,
   "metadata": {},
   "outputs": [
    {
     "data": {
      "text/html": [
       "<div>\n",
       "<style scoped>\n",
       "    .dataframe tbody tr th:only-of-type {\n",
       "        vertical-align: middle;\n",
       "    }\n",
       "\n",
       "    .dataframe tbody tr th {\n",
       "        vertical-align: top;\n",
       "    }\n",
       "\n",
       "    .dataframe thead th {\n",
       "        text-align: right;\n",
       "    }\n",
       "</style>\n",
       "<table border=\"1\" class=\"dataframe\">\n",
       "  <thead>\n",
       "    <tr style=\"text-align: right;\">\n",
       "      <th></th>\n",
       "      <th>band_1</th>\n",
       "      <th>band_2</th>\n",
       "      <th>inc_angle</th>\n",
       "      <th>is_iceberg</th>\n",
       "    </tr>\n",
       "    <tr>\n",
       "      <th>id</th>\n",
       "      <th></th>\n",
       "      <th></th>\n",
       "      <th></th>\n",
       "      <th></th>\n",
       "    </tr>\n",
       "  </thead>\n",
       "  <tbody>\n",
       "    <tr>\n",
       "      <th>dfd5f913</th>\n",
       "      <td>[-27.878360999999998, -27.15416, -28.668615, -...</td>\n",
       "      <td>[-27.154118, -29.537888, -31.0306, -32.190483,...</td>\n",
       "      <td>43.9239</td>\n",
       "      <td>0</td>\n",
       "    </tr>\n",
       "    <tr>\n",
       "      <th>e25388fd</th>\n",
       "      <td>[-12.242375, -14.920304999999999, -14.920363, ...</td>\n",
       "      <td>[-31.506321, -27.984554, -26.645678, -23.76760...</td>\n",
       "      <td>38.1562</td>\n",
       "      <td>0</td>\n",
       "    </tr>\n",
       "    <tr>\n",
       "      <th>58b2aaa0</th>\n",
       "      <td>[-24.603676, -24.603714, -24.871029, -23.15277...</td>\n",
       "      <td>[-24.870956, -24.092632, -20.653963, -19.41104...</td>\n",
       "      <td>45.2859</td>\n",
       "      <td>1</td>\n",
       "    </tr>\n",
       "    <tr>\n",
       "      <th>4cfc3a18</th>\n",
       "      <td>[-22.454607, -23.082819, -23.998013, -23.99805...</td>\n",
       "      <td>[-27.889421, -27.519794, -27.165262, -29.10350...</td>\n",
       "      <td>43.8306</td>\n",
       "      <td>0</td>\n",
       "    </tr>\n",
       "    <tr>\n",
       "      <th>271f93f4</th>\n",
       "      <td>[-26.006956, -23.164886, -23.164886, -26.89116...</td>\n",
       "      <td>[-27.206915, -30.259186, -30.259186, -23.16495...</td>\n",
       "      <td>35.6256</td>\n",
       "      <td>0</td>\n",
       "    </tr>\n",
       "  </tbody>\n",
       "</table>\n",
       "</div>"
      ],
      "text/plain": [
       "                                                     band_1  \\\n",
       "id                                                            \n",
       "dfd5f913  [-27.878360999999998, -27.15416, -28.668615, -...   \n",
       "e25388fd  [-12.242375, -14.920304999999999, -14.920363, ...   \n",
       "58b2aaa0  [-24.603676, -24.603714, -24.871029, -23.15277...   \n",
       "4cfc3a18  [-22.454607, -23.082819, -23.998013, -23.99805...   \n",
       "271f93f4  [-26.006956, -23.164886, -23.164886, -26.89116...   \n",
       "\n",
       "                                                     band_2 inc_angle  \\\n",
       "id                                                                      \n",
       "dfd5f913  [-27.154118, -29.537888, -31.0306, -32.190483,...   43.9239   \n",
       "e25388fd  [-31.506321, -27.984554, -26.645678, -23.76760...   38.1562   \n",
       "58b2aaa0  [-24.870956, -24.092632, -20.653963, -19.41104...   45.2859   \n",
       "4cfc3a18  [-27.889421, -27.519794, -27.165262, -29.10350...   43.8306   \n",
       "271f93f4  [-27.206915, -30.259186, -30.259186, -23.16495...   35.6256   \n",
       "\n",
       "          is_iceberg  \n",
       "id                    \n",
       "dfd5f913           0  \n",
       "e25388fd           0  \n",
       "58b2aaa0           1  \n",
       "4cfc3a18           0  \n",
       "271f93f4           0  "
      ]
     },
     "execution_count": 2,
     "metadata": {},
     "output_type": "execute_result"
    }
   ],
   "source": [
    "datadir = \"/home/christopher/Data/data/ml/ship-or-iceberg/\"\n",
    "\n",
    "with open(datadir + \"train.json\") as f:\n",
    "    train = pd.read_json(f).set_index(\"id\")\n",
    "train.head()"
   ]
  },
  {
   "cell_type": "code",
   "execution_count": 40,
   "metadata": {},
   "outputs": [],
   "source": [
    "band1 = np.array([np.array([i]) for i in train[\"band_1\"]], dtype=np.float32)\n",
    "band1 = band1.reshape(len(band1), 1, 75, 75)\n",
    "band2 = np.array([np.array([i]) for i in train[\"band_2\"]], dtype=np.float32)\n",
    "band2 = band2.reshape(len(band2), 1, 75, 75)\n",
    "\n",
    "train_data = np.concatenate((band1, band2), axis=1)\n",
    "labels = np.array(train[\"is_iceberg\"])"
   ]
  },
  {
   "cell_type": "code",
   "execution_count": 41,
   "metadata": {},
   "outputs": [
    {
     "name": "stdout",
     "output_type": "stream",
     "text": [
      "(1604, 2, 75, 75)\n",
      "(1604,)\n"
     ]
    }
   ],
   "source": [
    "print(train_data.shape)\n",
    "print(labels.shape)"
   ]
  },
  {
   "cell_type": "markdown",
   "metadata": {},
   "source": [
    "# Neural Network"
   ]
  },
  {
   "cell_type": "code",
   "execution_count": 53,
   "metadata": {},
   "outputs": [],
   "source": [
    "class Net(nn.Module):\n",
    "    def __init__(self):\n",
    "        super(Net, self).__init__()\n",
    "        self.conv1 = nn.Conv2d(2, 3, 4) # in_chan, out_chan, kernel_size\n",
    "        self.pool = nn.MaxPool2d(3, 3)\n",
    "        self.lin1 = nn.Linear(3 * 24 * 24, 100) # in_feat, out_feat\n",
    "        self.lin2 = nn.Linear(100, 2)\n",
    "    \n",
    "    def forward(self, x):\n",
    "        print(x.shape)\n",
    "        x = self.conv1(x)\n",
    "        print(x.shape)\n",
    "        x = self.pool(x)\n",
    "        print(x.shape)\n",
    "        x = x.view(3*24*24)\n",
    "        print(x.shape)\n",
    "        # 2x75x75 -> 3x72x72 -> 3x24x24\n",
    "        x = self.lin1(x)\n",
    "        print(x.shape)\n",
    "        x = self.lin2(x)\n",
    "        print(x.shape)\n",
    "        return x\n",
    "net = Net()"
   ]
  },
  {
   "cell_type": "code",
   "execution_count": 54,
   "metadata": {},
   "outputs": [
    {
     "name": "stdout",
     "output_type": "stream",
     "text": [
      "<class 'numpy.float32'>\n",
      "Variable containing:\n",
      "(0 ,0 ,.,.) = \n",
      " -27.8784 -27.1542 -28.6686  ...  -25.5735 -26.4887 -30.5070\n",
      " -28.6685 -27.8784 -27.5088  ...  -26.4886 -28.6716 -31.5942\n",
      " -28.6685 -27.1542 -25.8650  ...  -27.1571 -27.8814 -32.8371\n",
      "            ...               ⋱              ...            \n",
      " -29.0929 -28.6692 -30.5046  ...  -30.0110 -25.8685 -26.4893\n",
      " -31.5917 -27.8790 -28.6692  ...  -27.5123 -26.8171 -27.5124\n",
      " -29.0929 -26.8141 -27.1548  ...  -26.8170 -27.8820 -28.2681\n",
      "\n",
      "(0 ,1 ,.,.) = \n",
      " -27.1541 -29.5379 -31.0306  ...  -29.0953 -29.5409 -27.5118\n",
      " -31.0305 -33.5293 -31.5912  ...  -34.2881 -28.2675 -26.4887\n",
      " -33.5293 -37.0512 -31.5912  ...  -31.5941 -32.1934 -29.5409\n",
      "            ...               ⋱              ...            \n",
      " -27.8790 -27.8790 -30.0081  ...  -25.2892 -27.5123 -28.6722\n",
      " -29.5384 -29.5385 -29.0930  ...  -28.6721 -28.2681 -33.5330\n",
      " -30.0081 -28.6692 -27.5094  ...  -30.5075 -28.6722 -29.0960\n",
      "[torch.FloatTensor of size 1x2x75x75]\n",
      "\n",
      "torch.Size([1, 2, 75, 75])\n",
      "torch.Size([1, 3, 72, 72])\n",
      "torch.Size([1, 3, 24, 24])\n",
      "torch.Size([1728])\n",
      "torch.Size([100])\n",
      "torch.Size([2])\n"
     ]
    },
    {
     "data": {
      "text/plain": [
       "Variable containing:\n",
       "-1.3606\n",
       " 5.1510\n",
       "[torch.FloatTensor of size 2]"
      ]
     },
     "execution_count": 54,
     "metadata": {},
     "output_type": "execute_result"
    }
   ],
   "source": [
    "print(type(train_data[0][0][0][0]))\n",
    "inp = autograd.Variable(torch.from_numpy(train_data[0:1]))\n",
    "print(inp)\n",
    "net(inp)"
   ]
  },
  {
   "cell_type": "code",
   "execution_count": null,
   "metadata": {},
   "outputs": [],
   "source": []
  }
 ],
 "metadata": {
  "kernelspec": {
   "display_name": "ml",
   "language": "python",
   "name": "ml"
  },
  "language_info": {
   "codemirror_mode": {
    "name": "ipython",
    "version": 3
   },
   "file_extension": ".py",
   "mimetype": "text/x-python",
   "name": "python",
   "nbconvert_exporter": "python",
   "pygments_lexer": "ipython3",
   "version": "3.6.3"
  }
 },
 "nbformat": 4,
 "nbformat_minor": 2
}
