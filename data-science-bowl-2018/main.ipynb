{
 "cells": [
  {
   "cell_type": "markdown",
   "metadata": {
    "heading_collapsed": true
   },
   "source": [
    "# Nucleus Detection"
   ]
  },
  {
   "cell_type": "markdown",
   "metadata": {
    "hidden": true
   },
   "source": [
    "### Next steps"
   ]
  },
  {
   "cell_type": "markdown",
   "metadata": {
    "hidden": true
   },
   "source": [
    "* Work out a loss function\n",
    "* Decide how to run on other image sizes\n",
    "* Initialization of weights?"
   ]
  },
  {
   "cell_type": "markdown",
   "metadata": {
    "hidden": true
   },
   "source": [
    "### Mid term plans"
   ]
  },
  {
   "cell_type": "markdown",
   "metadata": {
    "hidden": true
   },
   "source": [
    "* Data augmentation"
   ]
  },
  {
   "cell_type": "markdown",
   "metadata": {
    "heading_collapsed": true
   },
   "source": [
    "# Imports"
   ]
  },
  {
   "cell_type": "code",
   "execution_count": 1,
   "metadata": {
    "hidden": true
   },
   "outputs": [
    {
     "data": {
      "text/html": [
       "<style>.container { width:90% !important; }</style>"
      ],
      "text/plain": [
       "<IPython.core.display.HTML object>"
      ]
     },
     "metadata": {},
     "output_type": "display_data"
    }
   ],
   "source": [
    "%load_ext autoreload\n",
    "%autoreload 2\n",
    "%matplotlib inline\n",
    "\n",
    "from IPython.core.display import display, HTML\n",
    "display(HTML(\"<style>.container { width:90% !important; }</style>\"))"
   ]
  },
  {
   "cell_type": "code",
   "execution_count": 2,
   "metadata": {
    "hidden": true
   },
   "outputs": [],
   "source": [
    "import data_loaders, prepare_submission, net, mask_prep\n",
    "\n",
    "import matplotlib.pyplot as plt\n",
    "import numpy as np\n",
    "import torch"
   ]
  },
  {
   "cell_type": "markdown",
   "metadata": {},
   "source": [
    "# Data"
   ]
  },
  {
   "cell_type": "code",
   "execution_count": 3,
   "metadata": {},
   "outputs": [],
   "source": [
    "train_raw, train_keys_raw = data_loaders.training_images()\n",
    "# test, test_keys = data_loaders.test_images()"
   ]
  },
  {
   "cell_type": "code",
   "execution_count": 4,
   "metadata": {},
   "outputs": [],
   "source": [
    "use_saved_weights = True\n",
    "if use_saved_weights:\n",
    "    summary_masks_raw, weights_raw = data_loaders.weights()\n",
    "else: # slow slow slow...\n",
    "    masks = data_loaders.training_masks()\n",
    "    summary_masks_raw, weights_raw = mask_prep.weights_from_all_masks(masks)\n",
    "    print(\"You probably want to save these weights now\")\n",
    "    data_loaders.save_weights(summary_masks_raw, weights_raw)"
   ]
  },
  {
   "cell_type": "code",
   "execution_count": 7,
   "metadata": {},
   "outputs": [
    {
     "name": "stdout",
     "output_type": "stream",
     "text": [
      "334 334 334 334\n"
     ]
    }
   ],
   "source": [
    "# For now, let us reduce our input data to just things that are 256x256\n",
    "train, train_keys, weights, summary_masks = [], [], [], []\n",
    "for i in range(len(train_raw)):\n",
    "    if train_raw[i].shape == (256, 256):\n",
    "        train.append(train_raw[i])\n",
    "        train_keys.append(train_keys_raw[i])\n",
    "        weights.append(weights_raw[i])\n",
    "        summary_masks.append(summary_masks_raw[i])\n",
    "print(len(train), len(train_keys), len(weights), len(summary_masks))"
   ]
  },
  {
   "cell_type": "code",
   "execution_count": 13,
   "metadata": {},
   "outputs": [
    {
     "name": "stdout",
     "output_type": "stream",
     "text": [
      "torch.Size([334, 1, 256, 256]) <class 'torch.FloatTensor'>\n",
      "torch.Size([334, 1, 256, 256]) <class 'torch.FloatTensor'>\n",
      "torch.Size([334, 1, 256, 256]) <class 'torch.FloatTensor'>\n"
     ]
    }
   ],
   "source": [
    "# Convert from numpy bytes to torch Variable floas\n",
    "trainV = torch.autograd.Variable(torch.from_numpy(np.array(train)).float())\n",
    "trainV.unsqueeze_(1)\n",
    "print(trainV.shape, type(trainV.data))\n",
    "\n",
    "# and weights\n",
    "weightsV = torch.from_numpy(np.array(weights)).float()\n",
    "weightsV.unsqueeze_(1)\n",
    "print(weightsV.shape, type(weightsV))\n",
    "\n",
    "# and summary masks\n",
    "summary_masksV = torch.from_numpy(np.array(summary_masks).astype(np.float)).float()\n",
    "summary_masksV.unsqueeze_(1)\n",
    "print(summary_masksV.shape, type(summary_masksV))"
   ]
  },
  {
   "cell_type": "markdown",
   "metadata": {},
   "source": [
    "# UNET"
   ]
  },
  {
   "cell_type": "code",
   "execution_count": null,
   "metadata": {},
   "outputs": [],
   "source": [
    "n = net.u_net()\n",
    "optimizer = torch.optim.SGD(n.parameters(), lr=0.0001, momentum=0.9)"
   ]
  },
  {
   "cell_type": "code",
   "execution_count": null,
   "metadata": {},
   "outputs": [],
   "source": [
    "# Run something through it as a sanity check\n",
    "inp = torch.autograd.Variable(torch.randn(1, 1, 348, 348))\n",
    "n(inp).shape"
   ]
  },
  {
   "cell_type": "code",
   "execution_count": null,
   "metadata": {},
   "outputs": [],
   "source": [
    "batchsize = 1\n",
    "for i in range(len(trainV)):\n",
    "    # Define input data\n",
    "    inp = trainV[i:i+batchsize]\n",
    "    assert inp.shape == (batchsize, 1, 256, 256)\n",
    "    inp = torch.nn.ReflectionPad2d((348-256)//2)(inp)\n",
    "    assert inp.shape == (batchsize, 1, 348, 348)\n",
    "    \n",
    "    # Define expected data and weights\n",
    "    weight = weightsV[i:i+batchsize]\n",
    "    assert weight.shape == (batchsize, 1, 256, 256)\n",
    "    exp = summary_masksV[i:i+batchsize]\n",
    "    assert exp.shape = (batchsize, 1, 256, 256)\n",
    "    \n",
    "    # Ready net\n",
    "    optimizer.zero_grad()\n",
    "    \n",
    "    # Run net and get output ready for loss and backgrad\n",
    "    out = n(inp)\n",
    "    assert out.shape == (batchsize, 1, 260, 260)\n",
    "    out = out[:,:,2:-2,2:-2]\n",
    "    assert out.shape == (batchsize, 1, 256, 256)\n",
    "    \n",
    "    # Calculate loss\n",
    "    loss = np.sum(\n",
    "        weight * (exp - out)**2\n",
    "    )\n",
    "    loss.\n",
    "    break"
   ]
  },
  {
   "cell_type": "code",
   "execution_count": null,
   "metadata": {},
   "outputs": [],
   "source": []
  }
 ],
 "metadata": {
  "kernelspec": {
   "display_name": "ml",
   "language": "python",
   "name": "ml"
  },
  "language_info": {
   "codemirror_mode": {
    "name": "ipython",
    "version": 3
   },
   "file_extension": ".py",
   "mimetype": "text/x-python",
   "name": "python",
   "nbconvert_exporter": "python",
   "pygments_lexer": "ipython3",
   "version": "3.6.4"
  }
 },
 "nbformat": 4,
 "nbformat_minor": 2
}
