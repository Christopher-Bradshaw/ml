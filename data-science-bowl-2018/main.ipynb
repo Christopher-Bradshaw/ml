{
 "cells": [
  {
   "cell_type": "markdown",
   "metadata": {},
   "source": [
    "# Imports"
   ]
  },
  {
   "cell_type": "code",
   "execution_count": 1,
   "metadata": {},
   "outputs": [
    {
     "data": {
      "text/html": [
       "<style>.container { width:90% !important; }</style>"
      ],
      "text/plain": [
       "<IPython.core.display.HTML object>"
      ]
     },
     "metadata": {},
     "output_type": "display_data"
    }
   ],
   "source": [
    "%load_ext autoreload\n",
    "%autoreload 2\n",
    "%matplotlib inline\n",
    "\n",
    "from IPython.core.display import display, HTML\n",
    "display(HTML(\"<style>.container { width:90% !important; }</style>\"))"
   ]
  },
  {
   "cell_type": "code",
   "execution_count": 2,
   "metadata": {},
   "outputs": [],
   "source": [
    "import data_loaders, prepare_submission, net\n",
    "\n",
    "import matplotlib.pyplot as plt\n",
    "import numpy as np\n",
    "import torch                     \n",
    "from torch.autograd import Variable"
   ]
  },
  {
   "cell_type": "markdown",
   "metadata": {},
   "source": [
    "# Data"
   ]
  },
  {
   "cell_type": "code",
   "execution_count": 3,
   "metadata": {},
   "outputs": [
    {
     "data": {
      "text/plain": [
       "'\\ntest, test_keys = data_loaders.test_images()\\nmasks = data_loaders.training_masks()\\ns_masks = data_loaders.single_masks(masks)\\n'"
      ]
     },
     "execution_count": 3,
     "metadata": {},
     "output_type": "execute_result"
    }
   ],
   "source": [
    "train_raw, train_keys_raw = data_loaders.training_images()\n",
    "\"\"\"\n",
    "test, test_keys = data_loaders.test_images()\n",
    "masks = data_loaders.training_masks()\n",
    "s_masks = data_loaders.single_masks(masks)\n",
    "\"\"\""
   ]
  },
  {
   "cell_type": "code",
   "execution_count": 4,
   "metadata": {},
   "outputs": [
    {
     "name": "stdout",
     "output_type": "stream",
     "text": [
      "334 334\n"
     ]
    }
   ],
   "source": [
    "# For now, let us reduce our input data to just things that are 256x256\n",
    "train, train_keys = [], []\n",
    "for i in range(len(train_raw)):\n",
    "    if train_raw[i].shape == (256, 256):\n",
    "        train.append(train_raw[i])\n",
    "        train_keys.append(train_keys_raw[i])\n",
    "print(len(train), len(train_keys))"
   ]
  },
  {
   "cell_type": "markdown",
   "metadata": {},
   "source": [
    "# UNET"
   ]
  },
  {
   "cell_type": "code",
   "execution_count": 8,
   "metadata": {},
   "outputs": [
    {
     "data": {
      "text/plain": [
       "torch.Size([1, 1, 388, 388])"
      ]
     },
     "execution_count": 8,
     "metadata": {},
     "output_type": "execute_result"
    }
   ],
   "source": [
    "n = net.u_net()\n",
    "inp = Variable(torch.randn(1, 1, 572, 572))\n",
    "\n",
    "n(inp).shape"
   ]
  },
  {
   "cell_type": "markdown",
   "metadata": {
    "heading_collapsed": true
   },
   "source": [
    "# A really silly idea\n",
    "\n",
    "Can we just have a cutoff and call everything > than that a cell?"
   ]
  },
  {
   "cell_type": "code",
   "execution_count": 36,
   "metadata": {
    "hidden": true
   },
   "outputs": [
    {
     "name": "stdout",
     "output_type": "stream",
     "text": [
      "6.0 9.41135663294 11.0322839506\n",
      "454\n",
      "558\n"
     ]
    },
    {
     "data": {
      "text/plain": [
       "(array([   1.,    0.,    1.,    0.,    2.,   10.,   24.,   43.,   45.,  544.]),\n",
       " array([ 0.15916748,  0.24302032,  0.32687317,  0.41072601,  0.49457886,\n",
       "         0.5784317 ,  0.66228455,  0.74613739,  0.82999023,  0.91384308,\n",
       "         0.99769592]),\n",
       " <a list of 10 Patch objects>)"
      ]
     },
     "execution_count": 36,
     "metadata": {},
     "output_type": "execute_result"
    },
    {
     "data": {
      "image/png": "[encoded data removed]",
      "text/plain": [
       "<matplotlib.figure.Figure at 0x7f34b3df5780>"
      ]
     },
     "metadata": {},
     "output_type": "display_data"
    }
   ],
   "source": [
    "res = []\n",
    "\n",
    "print(np.median(train[0]), np.std(train[0]), np.mean(train[0]))\n",
    "for i in range(len(train)):\n",
    "    score = np.sum((train[i] > np.median(train[i]) + np.std(train[i])) == (s_masks[i] == 255)) / np.prod(s_masks[i].shape)\n",
    "    res.append(score)\n",
    "    if score < 0.5:\n",
    "        print(i)\n",
    "\n",
    "plt.hist(res)"
   ]
  },
  {
   "cell_type": "code",
   "execution_count": 87,
   "metadata": {
    "hidden": true
   },
   "outputs": [],
   "source": [
    "test_res = []\n",
    "for i in range(len(test)):\n",
    "    test_res.append(\n",
    "        (test[i] > np.median(test[i]) + np.std(test[i])) |\n",
    "        (test[i] < np.median(test[i]) - 3*np.std(test[i])))\n",
    "test_res = [prepare_submission.separate_masks(i) for i in test_res]\n",
    "test_res = [prepare_submission.remove_tiny_masks(i) for i in test_res]"
   ]
  },
  {
   "cell_type": "code",
   "execution_count": 88,
   "metadata": {
    "hidden": true
   },
   "outputs": [
    {
     "name": "stdout",
     "output_type": "stream",
     "text": [
      "65\n"
     ]
    }
   ],
   "source": [
    "prepare_submission.write_submission(\"test.out\", test_res, test_keys)"
   ]
  }
 ],
 "metadata": {
  "kernelspec": {
   "display_name": "ml",
   "language": "python",
   "name": "ml"
  },
  "language_info": {
   "codemirror_mode": {
    "name": "ipython",
    "version": 3
   },
   "file_extension": ".py",
   "mimetype": "text/x-python",
   "name": "python",
   "nbconvert_exporter": "python",
   "pygments_lexer": "ipython3",
   "version": "3.6.4"
  }
 },
 "nbformat": 4,
 "nbformat_minor": 2
}
