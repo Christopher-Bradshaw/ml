{
 "cells": [
  {
   "cell_type": "markdown",
   "metadata": {},
   "source": [
    "# Data Science Bowl 2018\n",
    "\n",
    "Find cell nuclei in microscope images\n",
    "\n",
    "https://www.kaggle.com/c/data-science-bowl-2018/data"
   ]
  },
  {
   "cell_type": "code",
   "execution_count": 12,
   "metadata": {},
   "outputs": [
    {
     "name": "stdout",
     "output_type": "stream",
     "text": [
      "The autoreload extension is already loaded. To reload it, use:\n",
      "  %reload_ext autoreload\n"
     ]
    },
    {
     "data": {
      "text/html": [
       "<style>.container { width:90% !important; }</style>"
      ],
      "text/plain": [
       "<IPython.core.display.HTML object>"
      ]
     },
     "metadata": {},
     "output_type": "display_data"
    }
   ],
   "source": [
    "%load_ext autoreload\n",
    "%autoreload 2\n",
    "%matplotlib inline\n",
    "\n",
    "from IPython.core.display import display, HTML\n",
    "display(HTML(\"<style>.container { width:90% !important; }</style>\"))"
   ]
  },
  {
   "cell_type": "markdown",
   "metadata": {},
   "source": [
    "# Testing IOU\n"
   ]
  },
  {
   "cell_type": "code",
   "execution_count": 50,
   "metadata": {},
   "outputs": [],
   "source": [
    "from evaluations.iou import log_iou, iou_loss\n",
    "import plot_helpers.plot as plot\n",
    "import data_loaders\n",
    "\n",
    "import numpy as np"
   ]
  },
  {
   "cell_type": "code",
   "execution_count": 19,
   "metadata": {},
   "outputs": [],
   "source": [
    "summary_masks_raw, weights_raw = data_loaders.masks_and_weights(\"saved_weights\")"
   ]
  },
  {
   "cell_type": "code",
   "execution_count": 54,
   "metadata": {},
   "outputs": [],
   "source": [
    "offset = 1\n",
    "true = summary_masks_raw[0]\n",
    "pred = true[offset:, offset:]\n",
    "pred = np.pad(pred, ((0, offset), (0, offset)), mode=\"constant\")"
   ]
  },
  {
   "cell_type": "code",
   "execution_count": 44,
   "metadata": {},
   "outputs": [
    {
     "data": {
      "text/plain": [
       "'\\nplot.imshow(true)\\nplot.imshow(pred)\\n'"
      ]
     },
     "execution_count": 44,
     "metadata": {},
     "output_type": "execute_result"
    }
   ],
   "source": [
    "\"\"\"\n",
    "plot.imshow(true)\n",
    "plot.imshow(pred)\n",
    "\"\"\""
   ]
  },
  {
   "cell_type": "code",
   "execution_count": 58,
   "metadata": {},
   "outputs": [
    {
     "name": "stdout",
     "output_type": "stream",
     "text": [
      "Thresh\tTP\tFP\tFN\tPrec.\n",
      "0.500\t9\t0\t0\t1.000\n",
      "0.550\t9\t0\t0\t1.000\n",
      "0.600\t8\t1\t1\t0.800\n",
      "0.650\t8\t1\t1\t0.800\n",
      "0.700\t8\t1\t1\t0.800\n",
      "0.750\t8\t1\t1\t0.800\n",
      "0.800\t4\t5\t5\t0.286\n",
      "0.850\t1\t8\t8\t0.059\n",
      "0.900\t0\t9\t9\t0.000\n",
      "0.950\t0\t9\t9\t0.000\n",
      "AP\t-\t-\t-\t0.554\n",
      "0.554453781512605\n"
     ]
    }
   ],
   "source": [
    "log_iou(pred, true)\n",
    "print(iou_loss(pred, true))"
   ]
  },
  {
   "cell_type": "code",
   "execution_count": null,
   "metadata": {},
   "outputs": [],
   "source": []
  }
 ],
 "metadata": {
  "kernelspec": {
   "display_name": "Python 3",
   "language": "python",
   "name": "python3"
  },
  "language_info": {
   "codemirror_mode": {
    "name": "ipython",
    "version": 3
   },
   "file_extension": ".py",
   "mimetype": "text/x-python",
   "name": "python",
   "nbconvert_exporter": "python",
   "pygments_lexer": "ipython3",
   "version": "3.6.4"
  }
 },
 "nbformat": 4,
 "nbformat_minor": 2
}
