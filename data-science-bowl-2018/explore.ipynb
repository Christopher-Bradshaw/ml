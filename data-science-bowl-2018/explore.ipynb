{
 "cells": [
  {
   "cell_type": "markdown",
   "metadata": {},
   "source": [
    "# Data Science Bowl 2018\n",
    "\n",
    "Find cell nuclei in microscope images\n",
    "\n",
    "https://www.kaggle.com/c/data-science-bowl-2018/data"
   ]
  },
  {
   "cell_type": "code",
   "execution_count": 4,
   "metadata": {},
   "outputs": [
    {
     "data": {
      "text/html": [
       "<style>.container { width:90% !important; }</style>"
      ],
      "text/plain": [
       "<IPython.core.display.HTML object>"
      ]
     },
     "metadata": {},
     "output_type": "display_data"
    }
   ],
   "source": [
    "%load_ext autoreload\n",
    "%autoreload 2\n",
    "%matplotlib inline\n",
    "\n",
    "from IPython.core.display import display, HTML\n",
    "display(HTML(\"<style>.container { width:90% !important; }</style>\"))"
   ]
  },
  {
   "cell_type": "code",
   "execution_count": 2,
   "metadata": {},
   "outputs": [],
   "source": [
    "import os\n",
    "import skimage.io\n",
    "import numpy as np\n",
    "\n",
    "import matplotlib.pyplot as plt\n",
    "\n",
    "import data_loaders"
   ]
  },
  {
   "cell_type": "markdown",
   "metadata": {},
   "source": [
    "# Load Data"
   ]
  },
  {
   "cell_type": "code",
   "execution_count": 5,
   "metadata": {},
   "outputs": [],
   "source": [
    "datadir = \"/home/christopher/Data/data/ml/data-science-bowl-2018/\"\n",
    "\n",
    "which = \"test\"\n",
    "keys = os.listdir(datadir + which)\n",
    "\n",
    "data = {}\n",
    "\n",
    "for key in keys:\n",
    "    data[key] = skimage.io.imread(datadir + which + \"/\" + key + \"/images/\" + key + \".png\")\n",
    "    data[key] = np.rollaxis(data[key], 2, 0) # make data channels, x, y"
   ]
  },
  {
   "cell_type": "markdown",
   "metadata": {
    "heading_collapsed": true
   },
   "source": [
    "# Learn about our data\n",
    "\n",
    "* Images are of many different sizes (256x256 - 1040x1388) but are all RGBA\n",
    "* The majority of our images are grayscale - 562 / 670 in the training set\n",
    "* All of the 'A' values are 255. We can throw those away.\n",
    "\n",
    "## Decisions\n",
    "* I think we should work exclusively in grayscale for now. We can try do clever things with color later but lets keep it simple\n",
    "* We can't rely on having images of a certain size. We can either\n",
    "    * Cut up images into consistent sizes\n",
    "    * Resize - I don't like this at all. Especially as we need to (to the pixel level) locate things. This will introduce error there."
   ]
  },
  {
   "cell_type": "code",
   "execution_count": 6,
   "metadata": {
    "hidden": true
   },
   "outputs": [
    {
     "name": "stdout",
     "output_type": "stream",
     "text": [
      "{(4, 256, 256): 20, (3, 519, 253): 4, (3, 256, 256): 4, (3, 512, 680): 8, (4, 512, 640): 8, (3, 520, 348): 4, (4, 390, 239): 1, (4, 260, 347): 4, (3, 519, 162): 2, (4, 520, 696): 4, (3, 524, 348): 4, (3, 519, 161): 2}\n"
     ]
    }
   ],
   "source": [
    "shapes = {}\n",
    "for key in keys:\n",
    "    shape = data[key].shape\n",
    "    try:\n",
    "        shapes[shape] += 1\n",
    "    except KeyError:\n",
    "        shapes[shape] = 1\n",
    "print(shapes)"
   ]
  },
  {
   "cell_type": "code",
   "execution_count": 7,
   "metadata": {
    "hidden": true
   },
   "outputs": [
    {
     "name": "stdout",
     "output_type": "stream",
     "text": [
      "{True: 53, False: 12}\n"
     ]
    }
   ],
   "source": [
    "is_grayscale = {True: 0, False: 0}\n",
    "for key in keys:\n",
    "    is_grayscale[np.all(data[key][0] == data[key][1]) and np.all(data[key][0] == data[key][2])] += 1\n",
    "print(is_grayscale)"
   ]
  },
  {
   "cell_type": "code",
   "execution_count": 12,
   "metadata": {
    "hidden": true
   },
   "outputs": [
    {
     "name": "stdout",
     "output_type": "stream",
     "text": [
      "{True: 37, False: 0}\n"
     ]
    }
   ],
   "source": [
    "has_boring_a_values = {True: 0, False: 0}\n",
    "for key in keys:\n",
    "    if data[key].shape[0] > 3:\n",
    "        has_boring_a_values[np.all(data[key][3] == 255)] += 1\n",
    "print(has_boring_a_values)"
   ]
  },
  {
   "cell_type": "markdown",
   "metadata": {
    "heading_collapsed": true
   },
   "source": [
    "# Masks\n",
    "\n",
    "* We can find a distribution function of size of the masks\n",
    "* Masks never overlap (I'm not sure what happens in the scoring function if we join objects)."
   ]
  },
  {
   "cell_type": "code",
   "execution_count": 61,
   "metadata": {
    "hidden": true
   },
   "outputs": [],
   "source": [
    "masks = data_loaders.training_masks()"
   ]
  },
  {
   "cell_type": "code",
   "execution_count": 95,
   "metadata": {
    "hidden": true
   },
   "outputs": [],
   "source": [
    "non_border_masks = data_loaders.filter_border_masks(masks)"
   ]
  },
  {
   "cell_type": "code",
   "execution_count": 97,
   "metadata": {
    "hidden": true
   },
   "outputs": [
    {
     "name": "stdout",
     "output_type": "stream",
     "text": [
      "20\n",
      "10\n"
     ]
    }
   ],
   "source": [
    "print(len(masks[0]))\n",
    "print(len(non_border_masks[0]))"
   ]
  },
  {
   "cell_type": "code",
   "execution_count": 102,
   "metadata": {
    "hidden": true
   },
   "outputs": [
    {
     "name": "stdout",
     "output_type": "stream",
     "text": [
      "3.05360375209\n"
     ]
    },
    {
     "data": {
      "image/png": "[encoded data removed]",
      "text/plain": [
       "<matplotlib.figure.Figure at 0x7f26d8b23748>"
      ]
     },
     "metadata": {},
     "output_type": "display_data"
    }
   ],
   "source": [
    "# Nuclei per area\n",
    "nuclei_per_100_pixel = []\n",
    "for nbm in non_border_masks:\n",
    "    if len(nbm) == 0:\n",
    "        continue  \n",
    "    nuclei_per_100_pixel.append(10000 * len(nbm)/np.prod(nbm[0].shape))\n",
    "print(np.mean(nuclei_per_100_pixel))\n",
    "fig, ax = plt.subplots()\n",
    "_ = ax.hist(nuclei_per_100_pixel, bins = 30)\n",
    "\n",
    "# Size of nuclei\n",
    "nb_nuclei_area = [np.count_nonzero(non_border_masks[i][j]) for i in range(len(non_border_masks)) for j in range(len(non_border_masks[i]))]\n",
    "all_nuclei_area = [np.count_nonzero(masks[i][j]) for i in range(len(masks)) for j in range(len(masks[i]))]"
   ]
  },
  {
   "cell_type": "code",
   "execution_count": 114,
   "metadata": {
    "hidden": true
   },
   "outputs": [
    {
     "data": {
      "image/png": "[encoded data removed]",
      "text/plain": [
       "<matplotlib.figure.Figure at 0x7f2858bac940>"
      ]
     },
     "metadata": {},
     "output_type": "display_data"
    }
   ],
   "source": [
    "fig, ax = plt.subplots()\n",
    "bins = np.logspace(1, np.log10(12000), num=20)\n",
    "_ = ax.hist(all_nuclei_area, bins = bins, log=True, density=True, alpha=1)\n",
    "_ = ax.hist(nb_nuclei_area, bins = bins, log=True, density=True, alpha=0.5)\n",
    "_ = ax.set(\n",
    "    xscale=\"log\",\n",
    ")"
   ]
  },
  {
   "cell_type": "code",
   "execution_count": 140,
   "metadata": {
    "hidden": true
   },
   "outputs": [],
   "source": [
    "s_masks = data_loaders.single_masks(masks)"
   ]
  },
  {
   "cell_type": "code",
   "execution_count": 144,
   "metadata": {
    "hidden": true
   },
   "outputs": [
    {
     "name": "stdout",
     "output_type": "stream",
     "text": [
      "255\n"
     ]
    },
    {
     "data": {
      "image/png": "[encoded data removed]",
      "text/plain": [
       "<matplotlib.figure.Figure at 0x7f2858ad77b8>"
      ]
     },
     "metadata": {},
     "output_type": "display_data"
    }
   ],
   "source": [
    "plt.imshow(s_masks[0])\n",
    "print(max([np.max(i) for i in s_masks]))"
   ]
  },
  {
   "cell_type": "markdown",
   "metadata": {},
   "source": [
    "# As in prod\n",
    "\n",
    "Stuff done as in prod"
   ]
  },
  {
   "cell_type": "code",
   "execution_count": 9,
   "metadata": {},
   "outputs": [],
   "source": [
    "train, train_keys = data_loaders.training_images()\n",
    "masks = data_loaders.training_masks()\n",
    "s_masks = data_loaders.single_masks(masks)"
   ]
  },
  {
   "cell_type": "code",
   "execution_count": 7,
   "metadata": {},
   "outputs": [
    {
     "name": "stdout",
     "output_type": "stream",
     "text": [
      "{(256, 256): 334, (603, 1272): 6, (520, 696): 92, (256, 320): 112, (360, 360): 91, (260, 347): 5, (512, 640): 13, (1024, 1024): 16, (1040, 1388): 1}\n"
     ]
    }
   ],
   "source": [
    "shapes = {}\n",
    "for traini in train:\n",
    "    shape = traini.shape\n",
    "    try:\n",
    "        shapes[shape] += 1\n",
    "    except KeyError:\n",
    "        shapes[shape] = 1\n",
    "print(shapes)"
   ]
  },
  {
   "cell_type": "code",
   "execution_count": 8,
   "metadata": {},
   "outputs": [
    {
     "name": "stdout",
     "output_type": "stream",
     "text": [
      "(256, 256)\n",
      "<class 'list'>\n"
     ]
    },
    {
     "data": {
      "text/plain": [
       "<matplotlib.colorbar.Colorbar at 0x7fd0ef5d2048>"
      ]
     },
     "execution_count": 8,
     "metadata": {},
     "output_type": "execute_result"
    },
    {
     "data": {
      "image/png": "[encoded data removed]",
      "text/plain": [
       "<matplotlib.figure.Figure at 0x7fd0ef6d8828>"
      ]
     },
     "metadata": {},
     "output_type": "display_data"
    }
   ],
   "source": [
    "print(train[0].shape)\n",
    "print(type(train))\n",
    "plt.imshow(train[0])\n",
    "plt.colorbar()"
   ]
  },
  {
   "cell_type": "code",
   "execution_count": 10,
   "metadata": {},
   "outputs": [
    {
     "data": {
      "text/plain": [
       "<matplotlib.image.AxesImage at 0x7fd0ef5611d0>"
      ]
     },
     "execution_count": 10,
     "metadata": {},
     "output_type": "execute_result"
    },
    {
     "data": {
      "image/png": "[encoded data removed]",
      "text/plain": [
       "<matplotlib.figure.Figure at 0x7fd0ef5dd400>"
      ]
     },
     "metadata": {},
     "output_type": "display_data"
    }
   ],
   "source": [
    "plt.imshow(s_masks[0])"
   ]
  }
 ],
 "metadata": {
  "kernelspec": {
   "display_name": "ml",
   "language": "python",
   "name": "ml"
  },
  "language_info": {
   "codemirror_mode": {
    "name": "ipython",
    "version": 3
   },
   "file_extension": ".py",
   "mimetype": "text/x-python",
   "name": "python",
   "nbconvert_exporter": "python",
   "pygments_lexer": "ipython3",
   "version": "3.6.4"
  }
 },
 "nbformat": 4,
 "nbformat_minor": 2
}
