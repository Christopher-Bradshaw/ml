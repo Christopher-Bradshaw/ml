{
 "cells": [
  {
   "cell_type": "code",
   "execution_count": 21,
   "metadata": {},
   "outputs": [],
   "source": [
    "%matplotlib inline\n",
    "import numpy as np\n",
    "from sklearn import svm\n",
    "import matplotlib.pyplot as plt"
   ]
  },
  {
   "cell_type": "code",
   "execution_count": 22,
   "metadata": {},
   "outputs": [],
   "source": [
    "with open(\"/home/christopher/data/ml/digit-recognizer/train.csv\", \"r\") as data:\n",
    "    fullTrain = np.loadtxt(data, delimiter=\",\", skiprows=1, dtype=\"float64\")\n",
    "with open(\"/home/christopher/data/ml/digit-recognizer/test.csv\", \"r\") as data:\n",
    "    fullTest = np.loadtxt(data, delimiter=\",\", skiprows=1, dtype=\"float64\")"
   ]
  },
  {
   "cell_type": "code",
   "execution_count": 23,
   "metadata": {},
   "outputs": [],
   "source": [
    "train = fullTrain\n",
    "test = fullTest"
   ]
  },
  {
   "cell_type": "code",
   "execution_count": 24,
   "metadata": {},
   "outputs": [],
   "source": [
    "trainResults = train[:,0]\n",
    "trainData = train[:,1:] / 256\n",
    "test = test / 256"
   ]
  },
  {
   "cell_type": "code",
   "execution_count": 25,
   "metadata": {},
   "outputs": [
    {
     "data": {
      "text/plain": [
       "NuSVC(cache_size=200, class_weight=None, coef0=0.0,\n",
       "   decision_function_shape='ovr', degree=3, gamma='auto', kernel='rbf',\n",
       "   max_iter=-1, nu=0.5, probability=False, random_state=None,\n",
       "   shrinking=True, tol=0.001, verbose=False)"
      ]
     },
     "execution_count": 25,
     "metadata": {},
     "output_type": "execute_result"
    }
   ],
   "source": [
    "clf = svm.NuSVC()#gamma=0.001, kernel=\"sigmoid\")   \n",
    "clf.fit(trainData, trainResults)"
   ]
  },
  {
   "cell_type": "code",
   "execution_count": 26,
   "metadata": {},
   "outputs": [],
   "source": [
    "res = clf.predict(test)"
   ]
  },
  {
   "cell_type": "code",
   "execution_count": 27,
   "metadata": {},
   "outputs": [],
   "source": [
    "with open(\"results.csv\", \"w\") as f:\n",
    "    f.write(\"ImageId,Label\\n\")\n",
    "    for i, r in enumerate(res):\n",
    "        f.write(\"{},{}\\n\".format(i+1, int(r)))"
   ]
  },
  {
   "cell_type": "code",
   "execution_count": null,
   "metadata": {},
   "outputs": [],
   "source": []
  }
 ],
 "metadata": {
  "kernelspec": {
   "display_name": "ml",
   "language": "python",
   "name": "ml"
  }
 },
 "nbformat": 4,
 "nbformat_minor": 2
}
