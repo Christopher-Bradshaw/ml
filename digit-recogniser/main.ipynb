{
 "cells": [
  {
   "cell_type": "code",
   "execution_count": 14,
   "metadata": {},
   "outputs": [],
   "source": [
    "%matplotlib inline\n",
    "import numpy as np\n",
    "from sklearn import svm\n",
    "from sklearn import preprocessing\n",
    "import matplotlib.pyplot as plt"
   ]
  },
  {
   "cell_type": "code",
   "execution_count": 5,
   "metadata": {},
   "outputs": [],
   "source": [
    "with open(\"/home/christopher/data/ml/digit-recognizer/train.csv\", \"r\") as data:\n",
    "    fullTrain = np.loadtxt(data, delimiter=\",\", skiprows=1, dtype=\"float64\")\n",
    "with open(\"/home/christopher/data/ml/digit-recognizer/test.csv\", \"r\") as data:\n",
    "    fullTest = np.loadtxt(data, delimiter=\",\", skiprows=1, dtype=\"float64\")"
   ]
  },
  {
   "cell_type": "code",
   "execution_count": 48,
   "metadata": {},
   "outputs": [],
   "source": [
    "train = fullTrain\n",
    "test = fullTest"
   ]
  },
  {
   "cell_type": "code",
   "execution_count": 49,
   "metadata": {},
   "outputs": [],
   "source": [
    "trainResults = train[:,0]\n",
    "trainData = train[:,1:]\n",
    "testData = test"
   ]
  },
  {
   "cell_type": "markdown",
   "metadata": {},
   "source": [
    "# Scaling\n",
    "\n",
    "We need to scale our data to have mean 0, variance 1. "
   ]
  },
  {
   "cell_type": "code",
   "execution_count": 50,
   "metadata": {},
   "outputs": [],
   "source": [
    "scaler = preprocessing.StandardScaler().fit(trainData)\n",
    "scaledTrainData = scaler.transform(trainData)\n",
    "scaledTestData = scaler.transform(testData)\n"
   ]
  },
  {
   "cell_type": "markdown",
   "metadata": {},
   "source": [
    "# Fit\n",
    "\n",
    "Fit a support vector classification model to our data then predict our test data from that."
   ]
  },
  {
   "cell_type": "code",
   "execution_count": null,
   "metadata": {},
   "outputs": [],
   "source": [
    "clf = svm.SVC()#gamma=0.001, kernel=\"sigmoid\")   \n",
    "_ = clf.fit(scaledTrainData, trainResults)"
   ]
  },
  {
   "cell_type": "code",
   "execution_count": 46,
   "metadata": {},
   "outputs": [],
   "source": [
    "res = clf.predict(testData)"
   ]
  },
  {
   "cell_type": "code",
   "execution_count": 27,
   "metadata": {},
   "outputs": [],
   "source": [
    "with open(\"results.csv\", \"w\") as f:\n",
    "    f.write(\"ImageId,Label\\n\")\n",
    "    for i, r in enumerate(res):\n",
    "        f.write(\"{},{}\\n\".format(i+1, int(r)))"
   ]
  },
  {
   "cell_type": "code",
   "execution_count": null,
   "metadata": {},
   "outputs": [],
   "source": []
  }
 ],
 "metadata": {
  "kernelspec": {
   "display_name": "ml",
   "language": "python",
   "name": "ml"
  },
  "language_info": {
   "codemirror_mode": {
    "name": "ipython",
    "version": 3
   },
   "file_extension": ".py",
   "mimetype": "text/x-python",
   "name": "python",
   "nbconvert_exporter": "python",
   "pygments_lexer": "ipython3",
   "version": "3.6.3"
  }
 },
 "nbformat": 4,
 "nbformat_minor": 2
}
